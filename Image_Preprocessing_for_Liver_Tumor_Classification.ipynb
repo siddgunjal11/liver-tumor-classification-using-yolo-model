{
  "nbformat": 4,
  "nbformat_minor": 0,
  "metadata": {
    "colab": {
      "provenance": []
    },
    "kernelspec": {
      "name": "python3",
      "display_name": "Python 3"
    },
    "language_info": {
      "name": "python"
    }
  },
  "cells": [
    {
      "cell_type": "markdown",
      "source": [
        "# Pre-Processing\n"
      ],
      "metadata": {
        "id": "6_bChq8CHdDY"
      }
    },
    {
      "cell_type": "code",
      "source": [
        "import os\n",
        "import cv2\n",
        "import numpy as np\n",
        "import matplotlib.pyplot as plt"
      ],
      "metadata": {
        "id": "3U4SpROLHehQ"
      },
      "execution_count": null,
      "outputs": []
    },
    {
      "cell_type": "code",
      "source": [
        "from google.colab import drive\n",
        "drive.mount('/content/drive')"
      ],
      "metadata": {
        "colab": {
          "base_uri": "https://localhost:8080/"
        },
        "id": "O_7xnFP2HggV",
        "outputId": "b1c953df-fb0c-4f15-83d0-4b02d441fba0"
      },
      "execution_count": null,
      "outputs": [
        {
          "output_type": "stream",
          "name": "stdout",
          "text": [
            "Mounted at /content/drive\n"
          ]
        }
      ]
    },
    {
      "cell_type": "code",
      "source": [
        "directory = \"/content/drive/MyDrive/Liver Tumor Classification/Cholangiocarcinoma\"\n",
        "# Directory where preprocessed images will be saved\n",
        "preprocessed_directory = os.path.join(directory, \"preprocessed\")\n",
        "\n",
        "# Create the \"preprocessed\" directory if it doesn't exist\n",
        "if not os.path.exists(preprocessed_directory):\n",
        "    os.makedirs(preprocessed_directory)\n"
      ],
      "metadata": {
        "id": "7UUQmVoSHhta"
      },
      "execution_count": null,
      "outputs": []
    },
    {
      "cell_type": "code",
      "source": [
        "# Function to perform image preprocessing\n",
        "def preprocess_image(image_path, save_path):\n",
        "    # Read the input image\n",
        "    image = cv2.imread(image_path)\n",
        "\n",
        "    # Perform preprocessing steps\n",
        "    # Image normalization\n",
        "    normalized_image = cv2.normalize(image, None, alpha=0, beta=255, norm_type=cv2.NORM_MINMAX, dtype=cv2.CV_8U)\n",
        "\n",
        "    # Noise removal (Gaussian blur)\n",
        "    blurred_image = cv2.GaussianBlur(normalized_image, (5, 5), 0)\n",
        "\n",
        "    # Resize the image\n",
        "    resized_image = cv2.resize(blurred_image, (640, 640))\n",
        "\n",
        "    # Save the preprocessed image\n",
        "    cv2.imwrite(save_path, resized_image)"
      ],
      "metadata": {
        "id": "2slJHRerHjGp"
      },
      "execution_count": null,
      "outputs": []
    },
    {
      "cell_type": "code",
      "source": [
        "def show_images(image_path,save_path):\n",
        "    original_image = cv2.imread(image_path)\n",
        "    preprocessed_image = cv2.imread(save_path)\n",
        "\n",
        "    # Plot the original and preprocessed images side by side\n",
        "    plt.figure(figsize=(10, 5))\n",
        "    plt.subplot(1, 2, 1)\n",
        "    plt.imshow(cv2.cvtColor(original_image, cv2.COLOR_BGR2RGB))\n",
        "    plt.title('Original Image')\n",
        "    plt.axis('off')\n",
        "\n",
        "    plt.subplot(1, 2, 2)\n",
        "    plt.imshow(cv2.cvtColor(preprocessed_image, cv2.COLOR_BGR2RGB))\n",
        "    plt.title('Preprocessed Image')\n",
        "    plt.axis('off')\n",
        "\n",
        "    plt.show()"
      ],
      "metadata": {
        "id": "-NOmRuy-Hk-N"
      },
      "execution_count": null,
      "outputs": []
    },
    {
      "cell_type": "code",
      "source": [
        "# Loop through all files in the directory\n",
        "for filename in os.listdir(directory):\n",
        "    if filename.endswith(\".jpg\"):  # Assuming all images are in JPG format\n",
        "        # Get the full path of the image\n",
        "        image_path = os.path.join(directory, filename)\n",
        "\n",
        "        # Define the path to save the preprocessed image\n",
        "        save_path = os.path.join(preprocessed_directory, filename)\n",
        "\n",
        "        # Perform preprocessing for the current image\n",
        "        preprocess_image(image_path, save_path)\n",
        "\n",
        "        # show_images(image_path, save_path)\n",
        "\n"
      ],
      "metadata": {
        "id": "dMWHOvC8Hmgk"
      },
      "execution_count": null,
      "outputs": []
    },
    {
      "cell_type": "markdown",
      "source": [
        "# Augmentation\n",
        "Creating 3X images after augmentation"
      ],
      "metadata": {
        "id": "0CKXKLOFHm6p"
      }
    },
    {
      "cell_type": "code",
      "source": [
        "import os\n",
        "import glob\n",
        "from PIL import Image\n",
        "from torchvision import transforms\n",
        "\n",
        "dir = \"/content/drive/MyDrive/Liver Tumor Classification/Cholangiocarcinoma\"\n",
        "# Define the directory containing the original images\n",
        "image_dir = dir + \"/preprocessed\"\n",
        "\n",
        "# Define the output directory for augmented images\n",
        "output_dir = dir + \"/augmentated\"\n",
        "\n",
        "# Create the output directory if it doesn't exist\n",
        "os.makedirs(output_dir, exist_ok=True)\n",
        "\n",
        "# Define the transformations\n",
        "transform = transforms.Compose([\n",
        "    transforms.RandomHorizontalFlip(p=0.5),       # Random horizontal flipping with probability 0.5\n",
        "    transforms.RandomVerticalFlip(p=0.5),         # Random vertical flipping with probability 0.5\n",
        "    transforms.RandomResizedCrop(size=(224, 224)), # Random resized crop to 224x224\n",
        "    transforms.ColorJitter(brightness=0.05),       # Random brightness adjustment (-5%, +5%)\n",
        "    transforms.ToTensor(),                         # Convert PIL Image to tensor\n",
        "])\n",
        "\n",
        "# Apply transformations to each image in the directory\n",
        "for image_path in glob.glob(os.path.join(image_dir, \"*.jpg\")):\n",
        "    # Open the image\n",
        "    image = Image.open(image_path)\n",
        "\n",
        "    # Apply the transformations three times\n",
        "    for i in range(3):\n",
        "        # Apply the transformations\n",
        "        augmented_image = transform(image)\n",
        "\n",
        "        # Save the augmented image\n",
        "        filename = os.path.splitext(os.path.basename(image_path))[0]  # Get the filename without extension\n",
        "        output_path = os.path.join(output_dir, f\"{filename}_aug_{i}.jpg\")\n",
        "        transforms.functional.to_pil_image(augmented_image).save(output_path)\n",
        "\n"
      ],
      "metadata": {
        "id": "Rn1tJ4MUHpjD"
      },
      "execution_count": null,
      "outputs": []
    },
    {
      "cell_type": "markdown",
      "source": [
        "# Splitting Data into Train, Test, Val"
      ],
      "metadata": {
        "id": "UDCTAD0sHr35"
      }
    },
    {
      "cell_type": "code",
      "source": [
        "import os\n",
        "import shutil\n",
        "from sklearn.model_selection import train_test_split\n",
        "\n",
        "# Define the directories for each class\n",
        "class1_dir = \"/content/drive/MyDrive/Liver Tumor Classification/Cholangiocarcinoma/augmentated\"\n",
        "class2_dir = \"/content/drive/MyDrive/Liver Tumor Classification/HCC/augmentated\"\n",
        "class3_dir = \"/content/drive/MyDrive/Liver Tumor Classification/Normal Liver/augmentated\"\n",
        "\n",
        "# Define the output directories for train, test, and val sets\n",
        "train_dir = \"/content/drive/MyDrive/Liver Tumor Classification/train\"\n",
        "test_dir = \"/content/drive/MyDrive/Liver Tumor Classification/test\"\n",
        "val_dir = \"/content/drive/MyDrive/Liver Tumor Classification/val\"\n",
        "\n",
        "# Function to split data and copy images to respective directories\n",
        "def split_and_copy_images(src_dir, dst_train_dir, dst_test_dir, dst_val_dir):\n",
        "    # Create destination directories if they don't exist\n",
        "    os.makedirs(dst_train_dir, exist_ok=True)\n",
        "    os.makedirs(dst_test_dir, exist_ok=True)\n",
        "    os.makedirs(dst_val_dir, exist_ok=True)\n",
        "\n",
        "    # Get the list of image filenames\n",
        "    image_files = os.listdir(src_dir)\n",
        "    # Split the data into train and test-val sets\n",
        "    train_files, test_val_files = train_test_split(image_files, test_size=0.2, random_state=42)\n",
        "    # Further split the test_val set into test and val sets\n",
        "    test_files, val_files = train_test_split(test_val_files, test_size=0.5, random_state=42)\n",
        "\n",
        "    print(\"Total:\",len(image_files))\n",
        "    print(\"Train:\",len(train_files))\n",
        "    print(\"Test:\",len(test_files))\n",
        "    print(\"Val:\",len(val_files))\n",
        "    print(\"-------------\")\n",
        "\n",
        "    # Copy images to train directory\n",
        "    for file in train_files:\n",
        "        shutil.copy(os.path.join(src_dir, file), os.path.join(dst_train_dir, file))\n",
        "\n",
        "    # Copy images to test directory\n",
        "    for file in test_files:\n",
        "        shutil.copy(os.path.join(src_dir, file), os.path.join(dst_test_dir, file))\n",
        "\n",
        "    # Copy images to val directory\n",
        "    for file in val_files:\n",
        "        shutil.copy(os.path.join(src_dir, file), os.path.join(dst_val_dir, file))\n",
        "\n",
        "# Split and copy images for each class\n",
        "split_and_copy_images(class1_dir, os.path.join(train_dir, \"Cholangiocarcinoma\"), os.path.join(test_dir, \"Cholangiocarcinoma\"), os.path.join(val_dir, \"Cholangiocarcinoma\"))\n",
        "split_and_copy_images(class2_dir, os.path.join(train_dir, \"HCC\"), os.path.join(test_dir, \"HCC\"), os.path.join(val_dir, \"HCC\"))\n",
        "split_and_copy_images(class3_dir, os.path.join(train_dir, \"Normal\"), os.path.join(test_dir, \"Normal\"), os.path.join(val_dir, \"Normal\"))\n",
        "\n",
        "print(\"Data split into train, test, and val sets.\")\n"
      ],
      "metadata": {
        "colab": {
          "base_uri": "https://localhost:8080/"
        },
        "id": "C26r1os4HtMz",
        "outputId": "40a50b03-2f36-4fc8-8df0-aca00cb8b30a"
      },
      "execution_count": null,
      "outputs": [
        {
          "output_type": "stream",
          "name": "stdout",
          "text": [
            "Total: 210\n",
            "Train: 168\n",
            "Test: 21\n",
            "Val: 21\n",
            "-------------\n",
            "Total: 210\n",
            "Train: 168\n",
            "Test: 21\n",
            "Val: 21\n",
            "-------------\n",
            "Total: 210\n",
            "Train: 168\n",
            "Test: 21\n",
            "Val: 21\n",
            "-------------\n",
            "Data split into train, test, and val sets.\n"
          ]
        }
      ]
    }
  ]
}